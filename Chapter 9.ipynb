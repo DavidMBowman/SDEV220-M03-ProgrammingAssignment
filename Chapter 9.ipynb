{
 "cells": [
  {
   "cell_type": "code",
   "execution_count": null,
   "id": "e0911ae8",
   "metadata": {},
   "outputs": [],
   "source": [
    "def good():\n",
    "    characters = ['Harry', 'Ron', 'Hermione']\n",
    "    return characters\n",
    "\n",
    "def get_odds():\n",
    "    odds = []\n",
    "    for num in range(10):\n",
    "        if num % 2 == 1:\n",
    "            odds.append(num)\n",
    "    print(odds[2])\n",
    "\n",
    "print(good())\n",
    "get_odds()"
   ]
  }
 ],
 "metadata": {
  "kernelspec": {
   "display_name": "Python 3 (ipykernel)",
   "language": "python",
   "name": "python3"
  },
  "language_info": {
   "codemirror_mode": {
    "name": "ipython",
    "version": 3
   },
   "file_extension": ".py",
   "mimetype": "text/x-python",
   "name": "python",
   "nbconvert_exporter": "python",
   "pygments_lexer": "ipython3",
   "version": "3.11.4"
  }
 },
 "nbformat": 4,
 "nbformat_minor": 5
}
